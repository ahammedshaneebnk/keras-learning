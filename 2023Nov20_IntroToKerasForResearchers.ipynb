{
  "nbformat": 4,
  "nbformat_minor": 0,
  "metadata": {
    "colab": {
      "provenance": [],
      "gpuType": "T4"
    },
    "kernelspec": {
      "name": "python3",
      "display_name": "Python 3"
    },
    "language_info": {
      "name": "python"
    },
    "accelerator": "GPU"
  },
  "cells": [
    {
      "cell_type": "markdown",
      "source": [
        "# Contents\n",
        "> 20 November 2023\n",
        "* Setup\n",
        "* Tensors\n",
        "* Variables\n",
        "* Math\n",
        "* Gradients"
      ],
      "metadata": {
        "id": "LvcNoL-TG9aW"
      }
    },
    {
      "cell_type": "markdown",
      "source": [
        "## Setup"
      ],
      "metadata": {
        "id": "3u9shuT063Wy"
      }
    },
    {
      "cell_type": "code",
      "execution_count": 2,
      "metadata": {
        "id": "ylciY3es6hYc"
      },
      "outputs": [],
      "source": [
        "import tensorflow as tf\n",
        "import keras\n",
        "import numpy as np"
      ]
    },
    {
      "cell_type": "markdown",
      "source": [
        "## Tensors"
      ],
      "metadata": {
        "id": "8oa8ZUGi7DR3"
      }
    },
    {
      "cell_type": "markdown",
      "source": [
        "* Tensor: N-dimensional array\n",
        "### Numpy vs TensorFlow\n",
        "* TensorFlow can leverage hardware accelerators such as GPUs and TPUs.\n",
        "* TensorFlow can automatically compute the gradient of arbitrary differentiable tensor expressions.\n",
        "* TensorFlow computation can be distributed to large numbers of devices on a single machine, and large number of machines (potentially with multiple devices each)."
      ],
      "metadata": {
        "id": "iaxs-5Ku7Xh8"
      }
    },
    {
      "cell_type": "code",
      "source": [
        "def print_sep(num=20):\n",
        "    print(num*'--')"
      ],
      "metadata": {
        "id": "wLmaUG6t9-2p"
      },
      "execution_count": 5,
      "outputs": []
    },
    {
      "cell_type": "code",
      "source": [
        "# constant tensor\n",
        "x = tf.constant([[1, 2],[3,4]])\n",
        "print(x)\n",
        "print_sep()\n",
        "\n",
        "# converting to numpy array\n",
        "x_np = x.numpy()\n",
        "print(x_np)\n",
        "print_sep()\n",
        "\n",
        "# shape and dtype (like numpy)\n",
        "print(f\"type:\\t{x.shape}\\nshape:\\t{x.dtype}\")\n",
        "print(f\"type:\\t{x_np.shape}\\nshape:\\t{x_np.dtype}\")\n",
        "print_sep()\n",
        "\n",
        "# ones and zeros (like numpy)\n",
        "print(tf.ones(shape=(3,1)))\n",
        "print_sep()\n",
        "print(tf.zeros(shape=(2,2)))\n",
        "print_sep()\n",
        "\n",
        "# random constant tensors\n",
        "x_randNorm = tf.random.normal(shape=(1,4), mean=0.0, stddev=1.0)\n",
        "print(x_randNorm)\n",
        "print_sep()\n",
        "x_randUni = tf.random.uniform(shape=(2,2), minval=2, maxval=5)\n",
        "print(x_randUni)"
      ],
      "metadata": {
        "colab": {
          "base_uri": "https://localhost:8080/"
        },
        "id": "_9s-uyuR68Sv",
        "outputId": "f5288bad-98ad-4293-c03f-6db23ceb154c"
      },
      "execution_count": 7,
      "outputs": [
        {
          "output_type": "stream",
          "name": "stdout",
          "text": [
            "tf.Tensor(\n",
            "[[1 2]\n",
            " [3 4]], shape=(2, 2), dtype=int32)\n",
            "----------------------------------------\n",
            "[[1 2]\n",
            " [3 4]]\n",
            "----------------------------------------\n",
            "type:\t(2, 2)\n",
            "shape:\t<dtype: 'int32'>\n",
            "type:\t(2, 2)\n",
            "shape:\tint32\n",
            "----------------------------------------\n",
            "tf.Tensor(\n",
            "[[1.]\n",
            " [1.]\n",
            " [1.]], shape=(3, 1), dtype=float32)\n",
            "----------------------------------------\n",
            "tf.Tensor(\n",
            "[[0. 0.]\n",
            " [0. 0.]], shape=(2, 2), dtype=float32)\n",
            "----------------------------------------\n",
            "tf.Tensor([[ 1.1965895   0.3578922  -0.19351485 -0.45781013]], shape=(1, 4), dtype=float32)\n",
            "----------------------------------------\n",
            "tf.Tensor(\n",
            "[[3.9602199 4.0469484]\n",
            " [3.0538282 3.6466255]], shape=(2, 2), dtype=float32)\n"
          ]
        }
      ]
    },
    {
      "cell_type": "markdown",
      "source": [
        "## Variables"
      ],
      "metadata": {
        "id": "EnAHMhF8_94Y"
      }
    },
    {
      "cell_type": "markdown",
      "source": [
        "* Variables are special tensors used to store mutable state (such as the weights of a neural network)."
      ],
      "metadata": {
        "id": "DSh3fdlVAB2z"
      }
    },
    {
      "cell_type": "code",
      "source": [
        "# Variable\n",
        "init_val = tf.random.normal(shape=(2,2))\n",
        "print(init_val)\n",
        "print_sep()\n",
        "a_var = tf.Variable(init_val)\n",
        "print(a_var)\n",
        "print_sep()\n",
        "\n",
        "# assign\n",
        "new_val = tf.random.normal(shape=(2,2))\n",
        "print(new_val)\n",
        "print_sep()\n",
        "a_var.assign(new_val)\n",
        "print(a_var)\n",
        "print_sep()\n",
        "\n",
        "# increment with new: assign_add\n",
        "a_var.assign_add(tf.ones(shape=(2,2))*2)\n",
        "print(a_var)\n",
        "print_sep()\n",
        "\n",
        "# decrement with new: assign_sub\n",
        "a_var.assign_sub(tf.ones(shape=(2,2)))\n",
        "print(a_var)"
      ],
      "metadata": {
        "colab": {
          "base_uri": "https://localhost:8080/"
        },
        "id": "aLfLd79f9cYz",
        "outputId": "8b8f2087-d9fb-4ae6-ec24-569d59550d49"
      },
      "execution_count": 10,
      "outputs": [
        {
          "output_type": "stream",
          "name": "stdout",
          "text": [
            "tf.Tensor(\n",
            "[[ 0.9368381   1.0124143 ]\n",
            " [ 0.96799594 -1.0253472 ]], shape=(2, 2), dtype=float32)\n",
            "----------------------------------------\n",
            "<tf.Variable 'Variable:0' shape=(2, 2) dtype=float32, numpy=\n",
            "array([[ 0.9368381 ,  1.0124143 ],\n",
            "       [ 0.96799594, -1.0253472 ]], dtype=float32)>\n",
            "----------------------------------------\n",
            "tf.Tensor(\n",
            "[[ 1.8276376  -0.52430665]\n",
            " [ 1.0001394  -0.68555915]], shape=(2, 2), dtype=float32)\n",
            "----------------------------------------\n",
            "<tf.Variable 'Variable:0' shape=(2, 2) dtype=float32, numpy=\n",
            "array([[ 1.8276376 , -0.52430665],\n",
            "       [ 1.0001394 , -0.68555915]], dtype=float32)>\n",
            "----------------------------------------\n",
            "<tf.Variable 'Variable:0' shape=(2, 2) dtype=float32, numpy=\n",
            "array([[3.8276377, 1.4756933],\n",
            "       [3.0001392, 1.3144408]], dtype=float32)>\n",
            "----------------------------------------\n",
            "<tf.Variable 'Variable:0' shape=(2, 2) dtype=float32, numpy=\n",
            "array([[2.8276377 , 0.47569335],\n",
            "       [2.0001392 , 0.31444085]], dtype=float32)>\n"
          ]
        }
      ]
    },
    {
      "cell_type": "markdown",
      "source": [
        "## Maths"
      ],
      "metadata": {
        "id": "yfyNCZ3EDFBD"
      }
    },
    {
      "cell_type": "code",
      "source": [
        "a = tf.random.normal(shape=(2,2))\n",
        "b = tf.ones(shape=(2,2))\n",
        "print(a)\n",
        "print(b)\n",
        "print_sep()\n",
        "\n",
        "# a + b\n",
        "c = a + b\n",
        "print(c)\n",
        "print_sep()\n",
        "\n",
        "# c^2\n",
        "c_sq = tf.square(c)\n",
        "print(c_sq)\n",
        "print_sep()\n",
        "\n",
        "# e^c_sq\n",
        "e_csq = tf.exp(c_sq)\n",
        "print(e_csq)"
      ],
      "metadata": {
        "colab": {
          "base_uri": "https://localhost:8080/"
        },
        "id": "7UMQIneADHya",
        "outputId": "2d074f20-68c3-40a4-8d33-1638b51baa19"
      },
      "execution_count": 12,
      "outputs": [
        {
          "output_type": "stream",
          "name": "stdout",
          "text": [
            "tf.Tensor(\n",
            "[[ 0.7957157  -1.3118519 ]\n",
            " [-0.90906024  0.53265214]], shape=(2, 2), dtype=float32)\n",
            "tf.Tensor(\n",
            "[[1. 1.]\n",
            " [1. 1.]], shape=(2, 2), dtype=float32)\n",
            "----------------------------------------\n",
            "tf.Tensor(\n",
            "[[ 1.7957157  -0.31185186]\n",
            " [ 0.09093976  1.5326521 ]], shape=(2, 2), dtype=float32)\n",
            "----------------------------------------\n",
            "tf.Tensor(\n",
            "[[3.2245948  0.09725158]\n",
            " [0.00827004 2.3490226 ]], shape=(2, 2), dtype=float32)\n",
            "----------------------------------------\n",
            "tf.Tensor(\n",
            "[[25.143383   1.1021376]\n",
            " [ 1.0083044 10.475327 ]], shape=(2, 2), dtype=float32)\n"
          ]
        }
      ]
    },
    {
      "cell_type": "markdown",
      "source": [
        "## Gradient"
      ],
      "metadata": {
        "id": "2koa_Je1E1W6"
      }
    },
    {
      "cell_type": "markdown",
      "source": [
        "* Here's another big difference with NumPy: you can automatically retrieve the gradient of any differentiable expression."
      ],
      "metadata": {
        "id": "G1ZaJhqBE3Iu"
      }
    },
    {
      "cell_type": "code",
      "source": [
        "a = tf.random.normal(shape=(2,2))\n",
        "b = tf.random.normal(shape=(2,2))\n",
        "print(a,b)\n",
        "print_sep()\n",
        "\n",
        "# c = square_root of (a^2 + b^2)\n",
        "# find first derivative of c wrt a\n",
        "with tf.GradientTape() as tape:\n",
        "    tape.watch(a)\n",
        "    c = tf.sqrt(tf.square(a) + tf.square(b))\n",
        "    dc_da = tape.gradient(c,a)\n",
        "    print(dc_da)\n",
        "    print_sep()\n",
        "\n",
        "# if 'Variable', then no need to watch manually (automatically watched)\n",
        "a = tf.Variable(a)\n",
        "with tf.GradientTape() as tape:\n",
        "    c = tf.sqrt(tf.square(a) + tf.square(b))\n",
        "    dc_da = tape.gradient(c,a)\n",
        "    print(dc_da)\n",
        "    print_sep()\n",
        "\n",
        "# compute higher order derivative like 2nd derivative by nesting tape\n",
        "with tf.GradientTape() as outer_tape:\n",
        "    with tf.GradientTape() as tape:\n",
        "        c = tf.sqrt(tf.square(a) + tf.square(b))\n",
        "        dc_da = tape.gradient(c,a)\n",
        "        print(dc_da)\n",
        "        print_sep()\n",
        "    d2c_d2a = outer_tape.gradient(dc_da,a)\n",
        "    print(d2c_d2a)"
      ],
      "metadata": {
        "colab": {
          "base_uri": "https://localhost:8080/"
        },
        "id": "f-G7XgNRE9_R",
        "outputId": "c5a8ecde-8258-442f-92af-0664c607fc17"
      },
      "execution_count": 15,
      "outputs": [
        {
          "output_type": "stream",
          "name": "stdout",
          "text": [
            "tf.Tensor(\n",
            "[[ 0.740372    0.11314937]\n",
            " [ 0.6025739  -0.8957461 ]], shape=(2, 2), dtype=float32) tf.Tensor(\n",
            "[[ 0.9104634   1.6426238 ]\n",
            " [-0.36554867 -1.6070887 ]], shape=(2, 2), dtype=float32)\n",
            "----------------------------------------\n",
            "tf.Tensor(\n",
            "[[ 0.63091105  0.06872047]\n",
            " [ 0.8549761  -0.48685482]], shape=(2, 2), dtype=float32)\n",
            "----------------------------------------\n",
            "tf.Tensor(\n",
            "[[ 0.63091105  0.06872047]\n",
            " [ 0.8549761  -0.48685482]], shape=(2, 2), dtype=float32)\n",
            "----------------------------------------\n",
            "tf.Tensor(\n",
            "[[ 0.63091105  0.06872047]\n",
            " [ 0.8549761  -0.48685482]], shape=(2, 2), dtype=float32)\n",
            "----------------------------------------\n",
            "tf.Tensor(\n",
            "[[0.5129552  0.6044748 ]\n",
            " [0.38169944 0.41468984]], shape=(2, 2), dtype=float32)\n"
          ]
        }
      ]
    }
  ]
}